{
 "cells": [
  {
   "cell_type": "code",
   "execution_count": 8,
   "id": "23d3a317-4cfd-47bc-a582-b910cc63c020",
   "metadata": {},
   "outputs": [
    {
     "name": "stdout",
     "output_type": "stream",
     "text": [
      "qp|YICpp2?pM\n"
     ]
    }
   ],
   "source": [
    "#random password\n",
    "import random\n",
    "\n",
    "MAX_LEN = 12\n",
    "\n",
    "DIGITS = ['0', '1', '2', '3', '4', '5', '6', '7', '8', '9']\n",
    "LOCASE_CHARACTERS = ['a', 'b', 'c', 'd', 'e', 'f', 'g', 'h', 'i', 'j', 'k', 'm', 'n', 'o', 'p', 'q', 'r', 's', 't', 'u', 'v', 'w', 'x', 'y', 'z']\n",
    "UPCASE_CHARACTERS = ['A', 'B', 'C', 'D', 'E', 'F', 'G', 'H', 'I', 'J', 'K', 'M', 'N', 'O', 'P', 'Q', 'R', 'S', 'T', 'U', 'V', 'W', 'X', 'Y', 'Z']\n",
    "SYMBOLS = ['@', '#', '$', '%', '=', ':', '?', '.', '/', '|', '~', '>', '*', '(', ')', '<']\n",
    "\n",
    "# Combine all the character types into one list\n",
    "COMBINED_LIST = DIGITS + UPCASE_CHARACTERS + LOCASE_CHARACTERS + SYMBOLS\n",
    "\n",
    "# Pick one character from each character set to ensure variety\n",
    "rand_digit = random.choice(DIGITS)\n",
    "rand_upper = random.choice(UPCASE_CHARACTERS)\n",
    "rand_lower = random.choice(LOCASE_CHARACTERS)\n",
    "rand_symbol = random.choice(SYMBOLS)\n",
    "\n",
    "# Add those characters to the temporary password\n",
    "temp_pass = rand_digit + rand_upper + rand_lower + rand_symbol\n",
    "\n",
    "# Fill the rest of the password length with random characters from the combined list\n",
    "for _ in range(MAX_LEN - 4):\n",
    "    temp_pass += random.choice(COMBINED_LIST)\n",
    "\n",
    "# Convert the temporary password into a list and shuffle it\n",
    "temp_pass_list = list(temp_pass)\n",
    "random.shuffle(temp_pass_list)\n",
    "\n",
    "# Join the list to form the final password\n",
    "password = \"\".join(temp_pass_list)\n",
    "\n",
    "# Print the final password\n",
    "print(password)\n"
   ]
  },
  {
   "cell_type": "code",
   "execution_count": 11,
   "id": "8badf114-9eae-48a0-b410-8d9ed6258329",
   "metadata": {},
   "outputs": [
    {
     "name": "stdout",
     "output_type": "stream",
     "text": [
      "Generated Password: 'Uc05vf@Skh0\n"
     ]
    }
   ],
   "source": [
    "#random password\n",
    "import random\n",
    "import string\n",
    "\n",
    "def generate_password(length=12):\n",
    "    characters = string.ascii_letters + string.digits + string.punctuation\n",
    "    password = ''.join(random.choice(characters) for _ in range(length))\n",
    "    return password\n",
    "\n",
    "# You can specify the length of the password, or use the default\n",
    "password_length = 12  # Default is 12\n",
    "password = generate_password(password_length)\n",
    "\n",
    "print(\"Generated Password:\", password)\n",
    "\n"
   ]
  },
  {
   "cell_type": "code",
   "execution_count": 12,
   "id": "46f10ff9-13b9-45ef-b94b-682392bfa43c",
   "metadata": {},
   "outputs": [
    {
     "name": "stdin",
     "output_type": "stream",
     "text": [
      "Enter the number of terms:  8\n"
     ]
    },
    {
     "name": "stdout",
     "output_type": "stream",
     "text": [
      "0 1 1 2 3 5 8 13 "
     ]
    }
   ],
   "source": [
    "#fibonacci password\n",
    "cache = {}  # Cache to store previously computed Fibonacci numbers\n",
    "\n",
    "def fibonacci(n):\n",
    "    if n <= 1:\n",
    "        return n\n",
    "    elif n in cache:\n",
    "        return cache[n]\n",
    "    else:\n",
    "        result = fibonacci(n - 1) + fibonacci(n - 2)\n",
    "        cache[n] = result  # Store the result in cache for future use\n",
    "        return result\n",
    "\n",
    "n = int(input(\"Enter the number of terms: \"))\n",
    "for i in range(n):\n",
    "    print(fibonacci(i), end=' ')\n"
   ]
  },
  {
   "cell_type": "code",
   "execution_count": 13,
   "id": "0c3af4a0-bbab-4c91-a287-fb03e197fc44",
   "metadata": {},
   "outputs": [
    {
     "name": "stdin",
     "output_type": "stream",
     "text": [
      "Enter the number of terms:  8\n"
     ]
    },
    {
     "name": "stdout",
     "output_type": "stream",
     "text": [
      "Fibonacci series: 0 1 1 2 3 5 8 13 "
     ]
    }
   ],
   "source": [
    "#fibonacci series\n",
    "def fibonacciSeries(Number):\n",
    "    if Number == 0:\n",
    "        return 0\n",
    "    elif Number == 1:\n",
    "        return 1\n",
    "    else:\n",
    "        return fibonacciSeries(Number - 1) + fibonacciSeries(Number - 2)\n",
    "\n",
    "n = int(input(\"Enter the number of terms: \"))\n",
    "print(\"Fibonacci series:\", end=' ')\n",
    "\n",
    "for i in range(n):\n",
    "    print(fibonacciSeries(i), end=' ')\n",
    "\n"
   ]
  },
  {
   "cell_type": "code",
   "execution_count": null,
   "id": "5ff6f1c4-6424-4b74-88cf-2c004b623dc3",
   "metadata": {},
   "outputs": [
    {
     "name": "stdout",
     "output_type": "stream",
     "text": [
      "\n",
      " 1.Create\n",
      "2.Update\n",
      "3.List Contacts\n",
      "4.Search\n",
      "5.Delete\n",
      "6.Exit \n",
      "\n"
     ]
    }
   ],
   "source": [
    "#create contact\n",
    "class Contact:\n",
    "    def __init__(self):\n",
    "        self.book = []\n",
    "        self.names = []\n",
    "        self.numbers = []\n",
    "\n",
    "    def create(self, name, number, email):\n",
    "        self.book.append([name, number, email])\n",
    "        self.names.append(name)\n",
    "        self.numbers.append(number)\n",
    "        print(name, 'Contact created successfully..!')\n",
    "\n",
    "    def update(self, name=False, number=False):\n",
    "        # Implementation of contact update logic\n",
    "        pass\n",
    "\n",
    "    def delete(self, name=False, number=False):\n",
    "        # Implementation of contact deletion logic\n",
    "        pass\n",
    "\n",
    "    def phonebook(self):\n",
    "        print('\\nTotal Contacts found: ', len(self.book))\n",
    "        for contact in self.book:\n",
    "            print('\\nName: ', contact[0])\n",
    "            print('Phone Number: ', contact[1])\n",
    "            print('Email: ', contact[2])\n",
    "\n",
    "    def search(self, number=False, name=False):\n",
    "        # Implementation of contact search logic\n",
    "        pass\n",
    "\n",
    "# Main program\n",
    "menu = '''1.Create\n",
    "2.Update\n",
    "3.List Contacts\n",
    "4.Search\n",
    "5.Delete\n",
    "6.Exit'''\n",
    "\n",
    "if __name__ == \"__main__\":\n",
    "    c = Contact()\n",
    "    a = True\n",
    "    while a:\n",
    "        print('\\n', menu, '\\n')\n",
    "        choice = int(input('\\nEnter your Choice: '))\n",
    "        if choice == 1:\n",
    "            name = input('Name: ')\n",
    "            phone = input('Phone No.: ')\n",
    "            email = input('E-mail Address: ')\n",
    "            c.create(name, phone, email)\n",
    "        elif choice == 2:\n",
    "            # Option for updating contacts\n",
    "            pass\n",
    "        elif choice == 3:\n",
    "            c.phonebook()\n",
    "        elif choice == 4:\n",
    "            # Option for searching contacts\n",
    "            pass\n",
    "        elif choice == 5:\n",
    "            # Option for deleting contacts\n",
    "            pass\n",
    "        elif choice == 6:\n",
    "            a = False\n"
   ]
  },
  {
   "cell_type": "code",
   "execution_count": null,
   "id": "d9d01d50-b019-49d6-954c-239f5ba01c7f",
   "metadata": {},
   "outputs": [],
   "source": [
    "#create contact book\n",
    "names = []\n",
    "contact_numbers = []\n",
    "\n",
    "num = int(input(\"Enter the total number of contacts you want to save: \"))\n",
    "\n",
    "for i in range(num):\n",
    "    name = input(\"Name: \")\n",
    "    contact_number = int(input(\"Contact Number: \"))\n",
    "    names.append(name)\n",
    "    contact_numbers.append(contact_number)\n",
    "\n",
    "print(\"\\nName\\t\\t\\tContact Number\\n\")\n",
    "\n",
    "for i in range(num):\n",
    "    print(\"{}\\t\\t\\t{}\".format(names[i], contact_numbers[i]))\n"
   ]
  },
  {
   "cell_type": "code",
   "execution_count": null,
   "id": "50c50893-f284-4abb-9f6c-33327bff5795",
   "metadata": {},
   "outputs": [],
   "source": []
  },
  {
   "cell_type": "code",
   "execution_count": null,
   "id": "8fccdfeb-303c-461d-9240-0cb0110a0389",
   "metadata": {},
   "outputs": [],
   "source": []
  }
 ],
 "metadata": {
  "kernelspec": {
   "display_name": "Python 3 (ipykernel)",
   "language": "python",
   "name": "python3"
  },
  "language_info": {
   "codemirror_mode": {
    "name": "ipython",
    "version": 3
   },
   "file_extension": ".py",
   "mimetype": "text/x-python",
   "name": "python",
   "nbconvert_exporter": "python",
   "pygments_lexer": "ipython3",
   "version": "3.12.4"
  }
 },
 "nbformat": 4,
 "nbformat_minor": 5
}
